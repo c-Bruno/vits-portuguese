{
 "cells": [
  {
   "cell_type": "code",
   "execution_count": 1,
   "id": "b02e395d",
   "metadata": {},
   "outputs": [],
   "source": [
    "import os\n",
    "import librosa\n",
    "import pandas as pd\n",
    "import soundfile as sf\n",
    "from tqdm.notebook import tqdm_notebook as tqdm"
   ]
  },
  {
   "cell_type": "code",
   "execution_count": 19,
   "id": "21714ab5",
   "metadata": {},
   "outputs": [],
   "source": [
    "full_dataset = pd.DataFrame(columns=['path', 'sentence'])"
   ]
  },
  {
   "cell_type": "code",
   "execution_count": 20,
   "id": "5b9fa089",
   "metadata": {
    "scrolled": true
   },
   "outputs": [],
   "source": [
    "#path_ljspeech = 'data/LJSpeech'\n",
    "# path_tts_portuguese = 'data/TTS-Portuguese-Corpus'\n",
    "path_custom_dataset = 'data/custom_dataset'"
   ]
  },
  {
   "cell_type": "markdown",
   "id": "9ca9c85c",
   "metadata": {},
   "source": [
    "## TTS Portuguese Corpus"
   ]
  },
  {
   "cell_type": "code",
   "execution_count": 4,
   "id": "9f2300f7",
   "metadata": {},
   "outputs": [
    {
     "name": "stderr",
     "output_type": "stream",
     "text": [
      "/tmp/ipykernel_25629/857569029.py:1: ParserWarning: Falling back to the 'python' engine because the 'c' engine does not support regex separators (separators > 1 char and different from '\\s+' are interpreted as regex); you can avoid this warning by specifying engine='python'.\n",
      "  df_dataset_tts_portuguese = pd.read_csv(f'{path_tts_portuguese}/texts.csv', header=None, sep='==')\n"
     ]
    },
    {
     "data": {
      "text/html": [
       "<div>\n",
       "<style scoped>\n",
       "    .dataframe tbody tr th:only-of-type {\n",
       "        vertical-align: middle;\n",
       "    }\n",
       "\n",
       "    .dataframe tbody tr th {\n",
       "        vertical-align: top;\n",
       "    }\n",
       "\n",
       "    .dataframe thead th {\n",
       "        text-align: right;\n",
       "    }\n",
       "</style>\n",
       "<table border=\"1\" class=\"dataframe\">\n",
       "  <thead>\n",
       "    <tr style=\"text-align: right;\">\n",
       "      <th></th>\n",
       "      <th>path</th>\n",
       "      <th>sentence</th>\n",
       "    </tr>\n",
       "  </thead>\n",
       "  <tbody>\n",
       "    <tr>\n",
       "      <th>0</th>\n",
       "      <td>wavs/sample-0.wav</td>\n",
       "      <td>O título de página solicitado contém carateres...</td>\n",
       "    </tr>\n",
       "    <tr>\n",
       "      <th>1</th>\n",
       "      <td>wavs/sample-1.wav</td>\n",
       "      <td>O academicismo ou academismo designam, origina...</td>\n",
       "    </tr>\n",
       "    <tr>\n",
       "      <th>2</th>\n",
       "      <td>wavs/sample-2.wav</td>\n",
       "      <td>Esse método estendeu sua influência sobre todo...</td>\n",
       "    </tr>\n",
       "    <tr>\n",
       "      <th>3</th>\n",
       "      <td>wavs/sample-3.wav</td>\n",
       "      <td>No entanto, os termos não têm uma aplicação co...</td>\n",
       "    </tr>\n",
       "    <tr>\n",
       "      <th>4</th>\n",
       "      <td>wavs/sample-5.wav</td>\n",
       "      <td>O sucesso da proposta francesa a tornou um mod...</td>\n",
       "    </tr>\n",
       "    <tr>\n",
       "      <th>...</th>\n",
       "      <td>...</td>\n",
       "      <td>...</td>\n",
       "    </tr>\n",
       "    <tr>\n",
       "      <th>3620</th>\n",
       "      <td>wavs/sample-6713.wav</td>\n",
       "      <td>Tendo uma paixão pelo hip hop, a artista fico...</td>\n",
       "    </tr>\n",
       "    <tr>\n",
       "      <th>3621</th>\n",
       "      <td>wavs/sample-6717.wav</td>\n",
       "      <td>As vendas digitais da faixa ultrapassaram a m...</td>\n",
       "    </tr>\n",
       "    <tr>\n",
       "      <th>3622</th>\n",
       "      <td>wavs/sample-6723.wav</td>\n",
       "      <td>O financiamento da ação externa da União Euro...</td>\n",
       "    </tr>\n",
       "    <tr>\n",
       "      <th>3623</th>\n",
       "      <td>wavs/sample-6727.wav</td>\n",
       "      <td>As avaliações económicas dos tratamentos atua...</td>\n",
       "    </tr>\n",
       "    <tr>\n",
       "      <th>3624</th>\n",
       "      <td>wavs/sample-6728.wav</td>\n",
       "      <td>As outras peças não lançadas foram deixadas d...</td>\n",
       "    </tr>\n",
       "  </tbody>\n",
       "</table>\n",
       "<p>3625 rows × 2 columns</p>\n",
       "</div>"
      ],
      "text/plain": [
       "                      path                                           sentence\n",
       "0        wavs/sample-0.wav  O título de página solicitado contém carateres...\n",
       "1        wavs/sample-1.wav  O academicismo ou academismo designam, origina...\n",
       "2        wavs/sample-2.wav  Esse método estendeu sua influência sobre todo...\n",
       "3        wavs/sample-3.wav  No entanto, os termos não têm uma aplicação co...\n",
       "4        wavs/sample-5.wav  O sucesso da proposta francesa a tornou um mod...\n",
       "...                    ...                                                ...\n",
       "3620  wavs/sample-6713.wav   Tendo uma paixão pelo hip hop, a artista fico...\n",
       "3621  wavs/sample-6717.wav   As vendas digitais da faixa ultrapassaram a m...\n",
       "3622  wavs/sample-6723.wav   O financiamento da ação externa da União Euro...\n",
       "3623  wavs/sample-6727.wav   As avaliações económicas dos tratamentos atua...\n",
       "3624  wavs/sample-6728.wav   As outras peças não lançadas foram deixadas d...\n",
       "\n",
       "[3625 rows x 2 columns]"
      ]
     },
     "execution_count": 4,
     "metadata": {},
     "output_type": "execute_result"
    }
   ],
   "source": [
    "df_dataset_tts_portuguese = pd.read_csv(f'{path_custom_dataset}/texts.csv', header=None, sep='==') # Aqui vamos ler o arquivo de texto com o nome dos audios e suas descrições\n",
    "df_dataset_tts_portuguese = df_dataset_tts_portuguese.rename(columns={0: 'path', 1: 'sentence'})\n",
    "df_dataset_tts_portuguese"
   ]
  },
  {
   "cell_type": "code",
   "execution_count": 5,
   "id": "e645ad09",
   "metadata": {},
   "outputs": [
    {
     "data": {
      "text/html": [
       "<div>\n",
       "<style scoped>\n",
       "    .dataframe tbody tr th:only-of-type {\n",
       "        vertical-align: middle;\n",
       "    }\n",
       "\n",
       "    .dataframe tbody tr th {\n",
       "        vertical-align: top;\n",
       "    }\n",
       "\n",
       "    .dataframe thead th {\n",
       "        text-align: right;\n",
       "    }\n",
       "</style>\n",
       "<table border=\"1\" class=\"dataframe\">\n",
       "  <thead>\n",
       "    <tr style=\"text-align: right;\">\n",
       "      <th></th>\n",
       "      <th>path</th>\n",
       "      <th>sentence</th>\n",
       "    </tr>\n",
       "  </thead>\n",
       "  <tbody>\n",
       "    <tr>\n",
       "      <th>0</th>\n",
       "      <td>data/TTS-Portuguese-Corpus/wavs/sample-0.wav</td>\n",
       "      <td>O título de página solicitado contém carateres...</td>\n",
       "    </tr>\n",
       "    <tr>\n",
       "      <th>1</th>\n",
       "      <td>data/TTS-Portuguese-Corpus/wavs/sample-1.wav</td>\n",
       "      <td>O academicismo ou academismo designam, origina...</td>\n",
       "    </tr>\n",
       "    <tr>\n",
       "      <th>2</th>\n",
       "      <td>data/TTS-Portuguese-Corpus/wavs/sample-2.wav</td>\n",
       "      <td>Esse método estendeu sua influência sobre todo...</td>\n",
       "    </tr>\n",
       "    <tr>\n",
       "      <th>3</th>\n",
       "      <td>data/TTS-Portuguese-Corpus/wavs/sample-3.wav</td>\n",
       "      <td>No entanto, os termos não têm uma aplicação co...</td>\n",
       "    </tr>\n",
       "    <tr>\n",
       "      <th>4</th>\n",
       "      <td>data/TTS-Portuguese-Corpus/wavs/sample-5.wav</td>\n",
       "      <td>O sucesso da proposta francesa a tornou um mod...</td>\n",
       "    </tr>\n",
       "    <tr>\n",
       "      <th>...</th>\n",
       "      <td>...</td>\n",
       "      <td>...</td>\n",
       "    </tr>\n",
       "    <tr>\n",
       "      <th>3620</th>\n",
       "      <td>data/TTS-Portuguese-Corpus/wavs/sample-6713.wav</td>\n",
       "      <td>Tendo uma paixão pelo hip hop, a artista fico...</td>\n",
       "    </tr>\n",
       "    <tr>\n",
       "      <th>3621</th>\n",
       "      <td>data/TTS-Portuguese-Corpus/wavs/sample-6717.wav</td>\n",
       "      <td>As vendas digitais da faixa ultrapassaram a m...</td>\n",
       "    </tr>\n",
       "    <tr>\n",
       "      <th>3622</th>\n",
       "      <td>data/TTS-Portuguese-Corpus/wavs/sample-6723.wav</td>\n",
       "      <td>O financiamento da ação externa da União Euro...</td>\n",
       "    </tr>\n",
       "    <tr>\n",
       "      <th>3623</th>\n",
       "      <td>data/TTS-Portuguese-Corpus/wavs/sample-6727.wav</td>\n",
       "      <td>As avaliações económicas dos tratamentos atua...</td>\n",
       "    </tr>\n",
       "    <tr>\n",
       "      <th>3624</th>\n",
       "      <td>data/TTS-Portuguese-Corpus/wavs/sample-6728.wav</td>\n",
       "      <td>As outras peças não lançadas foram deixadas d...</td>\n",
       "    </tr>\n",
       "  </tbody>\n",
       "</table>\n",
       "<p>3625 rows × 2 columns</p>\n",
       "</div>"
      ],
      "text/plain": [
       "                                                 path  \\\n",
       "0        data/TTS-Portuguese-Corpus/wavs/sample-0.wav   \n",
       "1        data/TTS-Portuguese-Corpus/wavs/sample-1.wav   \n",
       "2        data/TTS-Portuguese-Corpus/wavs/sample-2.wav   \n",
       "3        data/TTS-Portuguese-Corpus/wavs/sample-3.wav   \n",
       "4        data/TTS-Portuguese-Corpus/wavs/sample-5.wav   \n",
       "...                                               ...   \n",
       "3620  data/TTS-Portuguese-Corpus/wavs/sample-6713.wav   \n",
       "3621  data/TTS-Portuguese-Corpus/wavs/sample-6717.wav   \n",
       "3622  data/TTS-Portuguese-Corpus/wavs/sample-6723.wav   \n",
       "3623  data/TTS-Portuguese-Corpus/wavs/sample-6727.wav   \n",
       "3624  data/TTS-Portuguese-Corpus/wavs/sample-6728.wav   \n",
       "\n",
       "                                               sentence  \n",
       "0     O título de página solicitado contém carateres...  \n",
       "1     O academicismo ou academismo designam, origina...  \n",
       "2     Esse método estendeu sua influência sobre todo...  \n",
       "3     No entanto, os termos não têm uma aplicação co...  \n",
       "4     O sucesso da proposta francesa a tornou um mod...  \n",
       "...                                                 ...  \n",
       "3620   Tendo uma paixão pelo hip hop, a artista fico...  \n",
       "3621   As vendas digitais da faixa ultrapassaram a m...  \n",
       "3622   O financiamento da ação externa da União Euro...  \n",
       "3623   As avaliações económicas dos tratamentos atua...  \n",
       "3624   As outras peças não lançadas foram deixadas d...  \n",
       "\n",
       "[3625 rows x 2 columns]"
      ]
     },
     "execution_count": 5,
     "metadata": {},
     "output_type": "execute_result"
    }
   ],
   "source": [
    "df_dataset_tts_portuguese['path'] = f'{path_custom_dataset}/' + df_dataset_tts_portuguese[\"path\"] # Aqui adicionamos o caminho para acessar os audios considerando a pasta do fork como raiz\n",
    "df_dataset_tts_portuguese"
   ]
  },
  {
   "cell_type": "code",
   "execution_count": 6,
   "id": "12dedbc0",
   "metadata": {},
   "outputs": [
    {
     "data": {
      "text/html": [
       "<div>\n",
       "<style scoped>\n",
       "    .dataframe tbody tr th:only-of-type {\n",
       "        vertical-align: middle;\n",
       "    }\n",
       "\n",
       "    .dataframe tbody tr th {\n",
       "        vertical-align: top;\n",
       "    }\n",
       "\n",
       "    .dataframe thead th {\n",
       "        text-align: right;\n",
       "    }\n",
       "</style>\n",
       "<table border=\"1\" class=\"dataframe\">\n",
       "  <thead>\n",
       "    <tr style=\"text-align: right;\">\n",
       "      <th></th>\n",
       "      <th>path</th>\n",
       "      <th>sentence</th>\n",
       "    </tr>\n",
       "  </thead>\n",
       "  <tbody>\n",
       "    <tr>\n",
       "      <th>0</th>\n",
       "      <td>data/TTS-Portuguese-Corpus/wavs/sample-0.wav</td>\n",
       "      <td>O título de página solicitado contém carateres...</td>\n",
       "    </tr>\n",
       "    <tr>\n",
       "      <th>1</th>\n",
       "      <td>data/TTS-Portuguese-Corpus/wavs/sample-1.wav</td>\n",
       "      <td>O academicismo ou academismo designam, origina...</td>\n",
       "    </tr>\n",
       "    <tr>\n",
       "      <th>2</th>\n",
       "      <td>data/TTS-Portuguese-Corpus/wavs/sample-2.wav</td>\n",
       "      <td>Esse método estendeu sua influência sobre todo...</td>\n",
       "    </tr>\n",
       "    <tr>\n",
       "      <th>3</th>\n",
       "      <td>data/TTS-Portuguese-Corpus/wavs/sample-3.wav</td>\n",
       "      <td>No entanto, os termos não têm uma aplicação co...</td>\n",
       "    </tr>\n",
       "    <tr>\n",
       "      <th>4</th>\n",
       "      <td>data/TTS-Portuguese-Corpus/wavs/sample-5.wav</td>\n",
       "      <td>O sucesso da proposta francesa a tornou um mod...</td>\n",
       "    </tr>\n",
       "    <tr>\n",
       "      <th>...</th>\n",
       "      <td>...</td>\n",
       "      <td>...</td>\n",
       "    </tr>\n",
       "    <tr>\n",
       "      <th>3620</th>\n",
       "      <td>data/TTS-Portuguese-Corpus/wavs/sample-6713.wav</td>\n",
       "      <td>Tendo uma paixão pelo hip hop, a artista fico...</td>\n",
       "    </tr>\n",
       "    <tr>\n",
       "      <th>3621</th>\n",
       "      <td>data/TTS-Portuguese-Corpus/wavs/sample-6717.wav</td>\n",
       "      <td>As vendas digitais da faixa ultrapassaram a m...</td>\n",
       "    </tr>\n",
       "    <tr>\n",
       "      <th>3622</th>\n",
       "      <td>data/TTS-Portuguese-Corpus/wavs/sample-6723.wav</td>\n",
       "      <td>O financiamento da ação externa da União Euro...</td>\n",
       "    </tr>\n",
       "    <tr>\n",
       "      <th>3623</th>\n",
       "      <td>data/TTS-Portuguese-Corpus/wavs/sample-6727.wav</td>\n",
       "      <td>As avaliações económicas dos tratamentos atua...</td>\n",
       "    </tr>\n",
       "    <tr>\n",
       "      <th>3624</th>\n",
       "      <td>data/TTS-Portuguese-Corpus/wavs/sample-6728.wav</td>\n",
       "      <td>As outras peças não lançadas foram deixadas d...</td>\n",
       "    </tr>\n",
       "  </tbody>\n",
       "</table>\n",
       "<p>3625 rows × 2 columns</p>\n",
       "</div>"
      ],
      "text/plain": [
       "                                                 path  \\\n",
       "0        data/TTS-Portuguese-Corpus/wavs/sample-0.wav   \n",
       "1        data/TTS-Portuguese-Corpus/wavs/sample-1.wav   \n",
       "2        data/TTS-Portuguese-Corpus/wavs/sample-2.wav   \n",
       "3        data/TTS-Portuguese-Corpus/wavs/sample-3.wav   \n",
       "4        data/TTS-Portuguese-Corpus/wavs/sample-5.wav   \n",
       "...                                               ...   \n",
       "3620  data/TTS-Portuguese-Corpus/wavs/sample-6713.wav   \n",
       "3621  data/TTS-Portuguese-Corpus/wavs/sample-6717.wav   \n",
       "3622  data/TTS-Portuguese-Corpus/wavs/sample-6723.wav   \n",
       "3623  data/TTS-Portuguese-Corpus/wavs/sample-6727.wav   \n",
       "3624  data/TTS-Portuguese-Corpus/wavs/sample-6728.wav   \n",
       "\n",
       "                                               sentence  \n",
       "0     O título de página solicitado contém carateres...  \n",
       "1     O academicismo ou academismo designam, origina...  \n",
       "2     Esse método estendeu sua influência sobre todo...  \n",
       "3     No entanto, os termos não têm uma aplicação co...  \n",
       "4     O sucesso da proposta francesa a tornou um mod...  \n",
       "...                                                 ...  \n",
       "3620   Tendo uma paixão pelo hip hop, a artista fico...  \n",
       "3621   As vendas digitais da faixa ultrapassaram a m...  \n",
       "3622   O financiamento da ação externa da União Euro...  \n",
       "3623   As avaliações económicas dos tratamentos atua...  \n",
       "3624   As outras peças não lançadas foram deixadas d...  \n",
       "\n",
       "[3625 rows x 2 columns]"
      ]
     },
     "execution_count": 6,
     "metadata": {},
     "output_type": "execute_result"
    }
   ],
   "source": [
    "full_dataset = pd.concat([full_dataset, df_dataset_tts_portuguese], ignore_index=True)\n",
    "full_dataset"
   ]
  },
  {
   "cell_type": "markdown",
   "id": "6aab3e19",
   "metadata": {},
   "source": [
    "## Remove problemas no dataset"
   ]
  },
  {
   "cell_type": "markdown",
   "id": "28116849",
   "metadata": {},
   "source": [
    "Printa os caminhos que não existe o arquivo (se não printar nada, significa que está tudo ok) e marca para serem removidos do dataset"
   ]
  },
  {
   "cell_type": "code",
   "execution_count": 25,
   "id": "527e7b90",
   "metadata": {},
   "outputs": [],
   "source": [
    "for idx, path in enumerate(full_dataset['path']): # Aqui vamos verificar se temos a descrição mas não temos o audio\n",
    "    if not os.path.exists(path):\n",
    "        print(idx, path)\n",
    "        full_dataset.loc[idx, 'sentence'] = None"
   ]
  },
  {
   "cell_type": "markdown",
   "id": "b8b3350e",
   "metadata": {},
   "source": [
    "Remove sentenças em branco"
   ]
  },
  {
   "cell_type": "code",
   "execution_count": 26,
   "id": "232d60c3",
   "metadata": {
    "scrolled": true
   },
   "outputs": [
    {
     "data": {
      "text/plain": [
       "path        0\n",
       "sentence    0\n",
       "dtype: int64"
      ]
     },
     "execution_count": 26,
     "metadata": {},
     "output_type": "execute_result"
    }
   ],
   "source": [
    "full_dataset[full_dataset['sentence'] == ''].count() # Aqui vamos verificar se temos o audio mas não temos sua descrição"
   ]
  },
  {
   "cell_type": "code",
   "execution_count": 27,
   "id": "15e58efb",
   "metadata": {},
   "outputs": [
    {
     "data": {
      "text/html": [
       "<div>\n",
       "<style scoped>\n",
       "    .dataframe tbody tr th:only-of-type {\n",
       "        vertical-align: middle;\n",
       "    }\n",
       "\n",
       "    .dataframe tbody tr th {\n",
       "        vertical-align: top;\n",
       "    }\n",
       "\n",
       "    .dataframe thead th {\n",
       "        text-align: right;\n",
       "    }\n",
       "</style>\n",
       "<table border=\"1\" class=\"dataframe\">\n",
       "  <thead>\n",
       "    <tr style=\"text-align: right;\">\n",
       "      <th></th>\n",
       "      <th>path</th>\n",
       "      <th>sentence</th>\n",
       "    </tr>\n",
       "  </thead>\n",
       "  <tbody>\n",
       "    <tr>\n",
       "      <th>0</th>\n",
       "      <td>data/custom_dataset/audio/0.wav</td>\n",
       "      <td>O linho estava em flor.</td>\n",
       "    </tr>\n",
       "    <tr>\n",
       "      <th>1</th>\n",
       "      <td>data/custom_dataset/audio/1.wav</td>\n",
       "      <td>Com as mais lindas flores azuis, tão suaves e ...</td>\n",
       "    </tr>\n",
       "    <tr>\n",
       "      <th>2</th>\n",
       "      <td>data/custom_dataset/audio/2.wav</td>\n",
       "      <td>quem sabe até mais.</td>\n",
       "    </tr>\n",
       "    <tr>\n",
       "      <th>3</th>\n",
       "      <td>data/custom_dataset/audio/3.wav</td>\n",
       "      <td>O sol brilhava sobre o linho e as nuvens de ch...</td>\n",
       "    </tr>\n",
       "    <tr>\n",
       "      <th>4</th>\n",
       "      <td>data/custom_dataset/audio/4.wav</td>\n",
       "      <td>era tão bom para ele quanto para as crianças p...</td>\n",
       "    </tr>\n",
       "    <tr>\n",
       "      <th>...</th>\n",
       "      <td>...</td>\n",
       "      <td>...</td>\n",
       "    </tr>\n",
       "    <tr>\n",
       "      <th>3785</th>\n",
       "      <td>data/custom_dataset/audio/3785.wav</td>\n",
       "      <td>Assim, acabou morrendo ali mesmo, com o rosto ...</td>\n",
       "    </tr>\n",
       "    <tr>\n",
       "      <th>3786</th>\n",
       "      <td>data/custom_dataset/audio/3786.wav</td>\n",
       "      <td>Esse foi o castigo do belo Narciso, cujo desti...</td>\n",
       "    </tr>\n",
       "    <tr>\n",
       "      <th>3787</th>\n",
       "      <td>data/custom_dataset/audio/3787.wav</td>\n",
       "      <td>Eco ficou chorando ao lado do corpo dele, até ...</td>\n",
       "    </tr>\n",
       "    <tr>\n",
       "      <th>3788</th>\n",
       "      <td>data/custom_dataset/audio/3788.wav</td>\n",
       "      <td>Ao despertar, Eco viu que Narciso não estava m...</td>\n",
       "    </tr>\n",
       "    <tr>\n",
       "      <th>3789</th>\n",
       "      <td>data/custom_dataset/audio/3789.wav</td>\n",
       "      <td>Hoje, ela é conhecida pelo nome de \"narciso\", ...</td>\n",
       "    </tr>\n",
       "  </tbody>\n",
       "</table>\n",
       "<p>3790 rows × 2 columns</p>\n",
       "</div>"
      ],
      "text/plain": [
       "                                    path  \\\n",
       "0        data/custom_dataset/audio/0.wav   \n",
       "1        data/custom_dataset/audio/1.wav   \n",
       "2        data/custom_dataset/audio/2.wav   \n",
       "3        data/custom_dataset/audio/3.wav   \n",
       "4        data/custom_dataset/audio/4.wav   \n",
       "...                                  ...   \n",
       "3785  data/custom_dataset/audio/3785.wav   \n",
       "3786  data/custom_dataset/audio/3786.wav   \n",
       "3787  data/custom_dataset/audio/3787.wav   \n",
       "3788  data/custom_dataset/audio/3788.wav   \n",
       "3789  data/custom_dataset/audio/3789.wav   \n",
       "\n",
       "                                               sentence  \n",
       "0                               O linho estava em flor.  \n",
       "1     Com as mais lindas flores azuis, tão suaves e ...  \n",
       "2                                   quem sabe até mais.  \n",
       "3     O sol brilhava sobre o linho e as nuvens de ch...  \n",
       "4     era tão bom para ele quanto para as crianças p...  \n",
       "...                                                 ...  \n",
       "3785  Assim, acabou morrendo ali mesmo, com o rosto ...  \n",
       "3786  Esse foi o castigo do belo Narciso, cujo desti...  \n",
       "3787  Eco ficou chorando ao lado do corpo dele, até ...  \n",
       "3788  Ao despertar, Eco viu que Narciso não estava m...  \n",
       "3789  Hoje, ela é conhecida pelo nome de \"narciso\", ...  \n",
       "\n",
       "[3790 rows x 2 columns]"
      ]
     },
     "execution_count": 27,
     "metadata": {},
     "output_type": "execute_result"
    }
   ],
   "source": [
    "full_dataset[full_dataset['sentence'] == ''] = None\n",
    "full_dataset = full_dataset.dropna(subset='sentence')\n",
    "full_dataset"
   ]
  },
  {
   "cell_type": "markdown",
   "id": "e8efd892",
   "metadata": {},
   "source": [
    "## Salva dataset"
   ]
  },
  {
   "cell_type": "markdown",
   "id": "18c2c9a8",
   "metadata": {},
   "source": [
    "Armazena em uma nova coluna o tempo de cada áudio"
   ]
  },
  {
   "cell_type": "code",
   "execution_count": 28,
   "id": "f25b738b",
   "metadata": {},
   "outputs": [
    {
     "data": {
      "application/vnd.jupyter.widget-view+json": {
       "model_id": "33dbf0c8edc74035b79fb659b61266c0",
       "version_major": 2,
       "version_minor": 0
      },
      "text/plain": [
       "  0%|          | 0/3790 [00:00<?, ?it/s]"
      ]
     },
     "metadata": {},
     "output_type": "display_data"
    }
   ],
   "source": [
    "all_times = [] # Aqui vamos fazer uma analise dos audios coletando o tempo de duraçção\n",
    "for path in tqdm(full_dataset['path']):\n",
    "    all_times.append(librosa.get_duration(filename=path))\n",
    "full_dataset['time'] = all_times"
   ]
  },
  {
   "cell_type": "code",
   "execution_count": 29,
   "id": "13575e3b",
   "metadata": {},
   "outputs": [
    {
     "data": {
      "text/html": [
       "<div>\n",
       "<style scoped>\n",
       "    .dataframe tbody tr th:only-of-type {\n",
       "        vertical-align: middle;\n",
       "    }\n",
       "\n",
       "    .dataframe tbody tr th {\n",
       "        vertical-align: top;\n",
       "    }\n",
       "\n",
       "    .dataframe thead th {\n",
       "        text-align: right;\n",
       "    }\n",
       "</style>\n",
       "<table border=\"1\" class=\"dataframe\">\n",
       "  <thead>\n",
       "    <tr style=\"text-align: right;\">\n",
       "      <th></th>\n",
       "      <th>path</th>\n",
       "      <th>sentence</th>\n",
       "      <th>time</th>\n",
       "    </tr>\n",
       "  </thead>\n",
       "  <tbody>\n",
       "    <tr>\n",
       "      <th>0</th>\n",
       "      <td>data/custom_dataset/audio/0.wav</td>\n",
       "      <td>O linho estava em flor.</td>\n",
       "      <td>1.71</td>\n",
       "    </tr>\n",
       "    <tr>\n",
       "      <th>1</th>\n",
       "      <td>data/custom_dataset/audio/1.wav</td>\n",
       "      <td>Com as mais lindas flores azuis, tão suaves e ...</td>\n",
       "      <td>5.31</td>\n",
       "    </tr>\n",
       "    <tr>\n",
       "      <th>2</th>\n",
       "      <td>data/custom_dataset/audio/2.wav</td>\n",
       "      <td>quem sabe até mais.</td>\n",
       "      <td>1.56</td>\n",
       "    </tr>\n",
       "    <tr>\n",
       "      <th>3</th>\n",
       "      <td>data/custom_dataset/audio/3.wav</td>\n",
       "      <td>O sol brilhava sobre o linho e as nuvens de ch...</td>\n",
       "      <td>4.08</td>\n",
       "    </tr>\n",
       "    <tr>\n",
       "      <th>4</th>\n",
       "      <td>data/custom_dataset/audio/4.wav</td>\n",
       "      <td>era tão bom para ele quanto para as crianças p...</td>\n",
       "      <td>6.51</td>\n",
       "    </tr>\n",
       "    <tr>\n",
       "      <th>...</th>\n",
       "      <td>...</td>\n",
       "      <td>...</td>\n",
       "      <td>...</td>\n",
       "    </tr>\n",
       "    <tr>\n",
       "      <th>3785</th>\n",
       "      <td>data/custom_dataset/audio/3785.wav</td>\n",
       "      <td>Assim, acabou morrendo ali mesmo, com o rosto ...</td>\n",
       "      <td>6.36</td>\n",
       "    </tr>\n",
       "    <tr>\n",
       "      <th>3786</th>\n",
       "      <td>data/custom_dataset/audio/3786.wav</td>\n",
       "      <td>Esse foi o castigo do belo Narciso, cujo desti...</td>\n",
       "      <td>6.36</td>\n",
       "    </tr>\n",
       "    <tr>\n",
       "      <th>3787</th>\n",
       "      <td>data/custom_dataset/audio/3787.wav</td>\n",
       "      <td>Eco ficou chorando ao lado do corpo dele, até ...</td>\n",
       "      <td>5.49</td>\n",
       "    </tr>\n",
       "    <tr>\n",
       "      <th>3788</th>\n",
       "      <td>data/custom_dataset/audio/3788.wav</td>\n",
       "      <td>Ao despertar, Eco viu que Narciso não estava m...</td>\n",
       "      <td>7.17</td>\n",
       "    </tr>\n",
       "    <tr>\n",
       "      <th>3789</th>\n",
       "      <td>data/custom_dataset/audio/3789.wav</td>\n",
       "      <td>Hoje, ela é conhecida pelo nome de \"narciso\", ...</td>\n",
       "      <td>5.19</td>\n",
       "    </tr>\n",
       "  </tbody>\n",
       "</table>\n",
       "<p>3790 rows × 3 columns</p>\n",
       "</div>"
      ],
      "text/plain": [
       "                                    path  \\\n",
       "0        data/custom_dataset/audio/0.wav   \n",
       "1        data/custom_dataset/audio/1.wav   \n",
       "2        data/custom_dataset/audio/2.wav   \n",
       "3        data/custom_dataset/audio/3.wav   \n",
       "4        data/custom_dataset/audio/4.wav   \n",
       "...                                  ...   \n",
       "3785  data/custom_dataset/audio/3785.wav   \n",
       "3786  data/custom_dataset/audio/3786.wav   \n",
       "3787  data/custom_dataset/audio/3787.wav   \n",
       "3788  data/custom_dataset/audio/3788.wav   \n",
       "3789  data/custom_dataset/audio/3789.wav   \n",
       "\n",
       "                                               sentence  time  \n",
       "0                               O linho estava em flor.  1.71  \n",
       "1     Com as mais lindas flores azuis, tão suaves e ...  5.31  \n",
       "2                                   quem sabe até mais.  1.56  \n",
       "3     O sol brilhava sobre o linho e as nuvens de ch...  4.08  \n",
       "4     era tão bom para ele quanto para as crianças p...  6.51  \n",
       "...                                                 ...   ...  \n",
       "3785  Assim, acabou morrendo ali mesmo, com o rosto ...  6.36  \n",
       "3786  Esse foi o castigo do belo Narciso, cujo desti...  6.36  \n",
       "3787  Eco ficou chorando ao lado do corpo dele, até ...  5.49  \n",
       "3788  Ao despertar, Eco viu que Narciso não estava m...  7.17  \n",
       "3789  Hoje, ela é conhecida pelo nome de \"narciso\", ...  5.19  \n",
       "\n",
       "[3790 rows x 3 columns]"
      ]
     },
     "execution_count": 29,
     "metadata": {},
     "output_type": "execute_result"
    }
   ],
   "source": [
    "full_dataset"
   ]
  },
  {
   "cell_type": "code",
   "execution_count": 30,
   "id": "e68f21a2",
   "metadata": {},
   "outputs": [],
   "source": [
    "full_dataset.to_csv('data/dataset_custom.tsv', sep='\\t', index=False) # Salva o dataset com a coluna 'time' que contem a informação de tempo de cada audio"
   ]
  },
  {
   "cell_type": "markdown",
   "id": "9859c140",
   "metadata": {},
   "source": [
    "# Limpar dataset"
   ]
  },
  {
   "cell_type": "code",
   "execution_count": 31,
   "id": "d9f4513e",
   "metadata": {},
   "outputs": [
    {
     "data": {
      "text/html": [
       "<div>\n",
       "<style scoped>\n",
       "    .dataframe tbody tr th:only-of-type {\n",
       "        vertical-align: middle;\n",
       "    }\n",
       "\n",
       "    .dataframe tbody tr th {\n",
       "        vertical-align: top;\n",
       "    }\n",
       "\n",
       "    .dataframe thead th {\n",
       "        text-align: right;\n",
       "    }\n",
       "</style>\n",
       "<table border=\"1\" class=\"dataframe\">\n",
       "  <thead>\n",
       "    <tr style=\"text-align: right;\">\n",
       "      <th></th>\n",
       "      <th>path</th>\n",
       "      <th>sentence</th>\n",
       "      <th>time</th>\n",
       "    </tr>\n",
       "  </thead>\n",
       "  <tbody>\n",
       "    <tr>\n",
       "      <th>0</th>\n",
       "      <td>data/custom_dataset/audio/0.wav</td>\n",
       "      <td>O linho estava em flor.</td>\n",
       "      <td>1.71</td>\n",
       "    </tr>\n",
       "    <tr>\n",
       "      <th>1</th>\n",
       "      <td>data/custom_dataset/audio/1.wav</td>\n",
       "      <td>Com as mais lindas flores azuis, tão suaves e ...</td>\n",
       "      <td>5.31</td>\n",
       "    </tr>\n",
       "    <tr>\n",
       "      <th>2</th>\n",
       "      <td>data/custom_dataset/audio/2.wav</td>\n",
       "      <td>quem sabe até mais.</td>\n",
       "      <td>1.56</td>\n",
       "    </tr>\n",
       "    <tr>\n",
       "      <th>3</th>\n",
       "      <td>data/custom_dataset/audio/3.wav</td>\n",
       "      <td>O sol brilhava sobre o linho e as nuvens de ch...</td>\n",
       "      <td>4.08</td>\n",
       "    </tr>\n",
       "    <tr>\n",
       "      <th>4</th>\n",
       "      <td>data/custom_dataset/audio/4.wav</td>\n",
       "      <td>era tão bom para ele quanto para as crianças p...</td>\n",
       "      <td>6.51</td>\n",
       "    </tr>\n",
       "    <tr>\n",
       "      <th>...</th>\n",
       "      <td>...</td>\n",
       "      <td>...</td>\n",
       "      <td>...</td>\n",
       "    </tr>\n",
       "    <tr>\n",
       "      <th>3785</th>\n",
       "      <td>data/custom_dataset/audio/3785.wav</td>\n",
       "      <td>Assim, acabou morrendo ali mesmo, com o rosto ...</td>\n",
       "      <td>6.36</td>\n",
       "    </tr>\n",
       "    <tr>\n",
       "      <th>3786</th>\n",
       "      <td>data/custom_dataset/audio/3786.wav</td>\n",
       "      <td>Esse foi o castigo do belo Narciso, cujo desti...</td>\n",
       "      <td>6.36</td>\n",
       "    </tr>\n",
       "    <tr>\n",
       "      <th>3787</th>\n",
       "      <td>data/custom_dataset/audio/3787.wav</td>\n",
       "      <td>Eco ficou chorando ao lado do corpo dele, até ...</td>\n",
       "      <td>5.49</td>\n",
       "    </tr>\n",
       "    <tr>\n",
       "      <th>3788</th>\n",
       "      <td>data/custom_dataset/audio/3788.wav</td>\n",
       "      <td>Ao despertar, Eco viu que Narciso não estava m...</td>\n",
       "      <td>7.17</td>\n",
       "    </tr>\n",
       "    <tr>\n",
       "      <th>3789</th>\n",
       "      <td>data/custom_dataset/audio/3789.wav</td>\n",
       "      <td>Hoje, ela é conhecida pelo nome de \"narciso\", ...</td>\n",
       "      <td>5.19</td>\n",
       "    </tr>\n",
       "  </tbody>\n",
       "</table>\n",
       "<p>3790 rows × 3 columns</p>\n",
       "</div>"
      ],
      "text/plain": [
       "                                    path  \\\n",
       "0        data/custom_dataset/audio/0.wav   \n",
       "1        data/custom_dataset/audio/1.wav   \n",
       "2        data/custom_dataset/audio/2.wav   \n",
       "3        data/custom_dataset/audio/3.wav   \n",
       "4        data/custom_dataset/audio/4.wav   \n",
       "...                                  ...   \n",
       "3785  data/custom_dataset/audio/3785.wav   \n",
       "3786  data/custom_dataset/audio/3786.wav   \n",
       "3787  data/custom_dataset/audio/3787.wav   \n",
       "3788  data/custom_dataset/audio/3788.wav   \n",
       "3789  data/custom_dataset/audio/3789.wav   \n",
       "\n",
       "                                               sentence  time  \n",
       "0                               O linho estava em flor.  1.71  \n",
       "1     Com as mais lindas flores azuis, tão suaves e ...  5.31  \n",
       "2                                   quem sabe até mais.  1.56  \n",
       "3     O sol brilhava sobre o linho e as nuvens de ch...  4.08  \n",
       "4     era tão bom para ele quanto para as crianças p...  6.51  \n",
       "...                                                 ...   ...  \n",
       "3785  Assim, acabou morrendo ali mesmo, com o rosto ...  6.36  \n",
       "3786  Esse foi o castigo do belo Narciso, cujo desti...  6.36  \n",
       "3787  Eco ficou chorando ao lado do corpo dele, até ...  5.49  \n",
       "3788  Ao despertar, Eco viu que Narciso não estava m...  7.17  \n",
       "3789  Hoje, ela é conhecida pelo nome de \"narciso\", ...  5.19  \n",
       "\n",
       "[3790 rows x 3 columns]"
      ]
     },
     "execution_count": 31,
     "metadata": {},
     "output_type": "execute_result"
    }
   ],
   "source": [
    "pd_dataset_dict = pd.read_csv('data/dataset_custom.tsv', sep='\\t') # Aqui vamos ler o dataset com a coluna 'time'\n",
    "pd_dataset_dict"
   ]
  },
  {
   "cell_type": "markdown",
   "id": "1fbb960c",
   "metadata": {},
   "source": [
    "## Remover áudios muito grande\n",
    "Por mais que exista o parâmetro \"max_input_length\" no treinamento do código do Wav2Vec2, é interessante limpar o que não for utilizado, até porque ao fazer o preprocessing ele ocupa espaço em disco."
   ]
  },
  {
   "cell_type": "code",
   "execution_count": 32,
   "id": "49caf32b",
   "metadata": {
    "scrolled": true
   },
   "outputs": [
    {
     "data": {
      "text/plain": [
       "630      0.60\n",
       "235      0.72\n",
       "2138     0.72\n",
       "3040     0.72\n",
       "2339     0.75\n",
       "        ...  \n",
       "1950    18.00\n",
       "2228    18.03\n",
       "1711    19.41\n",
       "1722    19.71\n",
       "3439    19.80\n",
       "Name: time, Length: 3790, dtype: float64"
      ]
     },
     "execution_count": 32,
     "metadata": {},
     "output_type": "execute_result"
    }
   ],
   "source": [
    "pd_dataset_dict['time'].sort_values()"
   ]
  },
  {
   "cell_type": "code",
   "execution_count": 33,
   "id": "edfef3ba",
   "metadata": {},
   "outputs": [],
   "source": [
    "ranges_time = [] # Separamos os ranges de tempo dos audios de 5 em 5 segundos para fazer o levantamento de durações\n",
    "ranges_time.append(pd_dataset_dict['time'].between(0, 5, inclusive='left').sum())\n",
    "ranges_time.append(pd_dataset_dict['time'].between(5, 10, inclusive='left').sum())\n",
    "ranges_time.append(pd_dataset_dict['time'].between(10, 15, inclusive='left').sum())\n",
    "ranges_time.append(pd_dataset_dict['time'].between(15, 20, inclusive='left').sum())\n",
    "ranges_time.append(pd_dataset_dict['time'].between(20, 25, inclusive='left').sum())\n",
    "ranges_time.append(pd_dataset_dict['time'].between(25, 30, inclusive='left').sum())\n",
    "ranges_time.append((pd_dataset_dict['time'] >= 30).sum())"
   ]
  },
  {
   "cell_type": "code",
   "execution_count": 18,
   "id": "c975068e",
   "metadata": {},
   "outputs": [
    {
     "data": {
      "text/plain": [
       "[Text(0, 0, '776'),\n",
       " Text(0, 0, '1169'),\n",
       " Text(0, 0, '933'),\n",
       " Text(0, 0, '452'),\n",
       " Text(0, 0, '189'),\n",
       " Text(0, 0, '75'),\n",
       " Text(0, 0, '30')]"
      ]
     },
     "execution_count": 18,
     "metadata": {},
     "output_type": "execute_result"
    },
    {
     "data": {
      "image/png": "[encoded data removed]",
      "text/plain": [
       "<Figure size 640x480 with 1 Axes>"
      ]
     },
     "metadata": {},
     "output_type": "display_data"
    }
   ],
   "source": [
    "cat_time = pd.DataFrame(ranges_time, index=['0-5', '5-10', '10-15', '15-20', '20-25', '25-30', '>=30'])\n",
    "ax = cat_time.plot.bar()\n",
    "ax.bar_label(ax.containers[0])"
   ]
  },
  {
   "cell_type": "markdown",
   "id": "5185e6f1",
   "metadata": {},
   "source": [
    "Remover todos audios maior ou igual a 15 segundos"
   ]
  },
  {
   "cell_type": "code",
   "execution_count": 35,
   "id": "89cfce79",
   "metadata": {},
   "outputs": [],
   "source": [
    "pd_dataset_dict.loc[pd_dataset_dict['time'] >= 15, 'sentence'] = None # Aqui vamos remover todos os aduiso com mais de 15 segundos do datasetfinal\n",
    "pd_dataset_dict = pd_dataset_dict.dropna(subset='sentence')"
   ]
  },
  {
   "cell_type": "code",
   "execution_count": 39,
   "id": "bf3ce583",
   "metadata": {},
   "outputs": [
    {
     "data": {
      "text/html": [
       "<div>\n",
       "<style scoped>\n",
       "    .dataframe tbody tr th:only-of-type {\n",
       "        vertical-align: middle;\n",
       "    }\n",
       "\n",
       "    .dataframe tbody tr th {\n",
       "        vertical-align: top;\n",
       "    }\n",
       "\n",
       "    .dataframe thead th {\n",
       "        text-align: right;\n",
       "    }\n",
       "</style>\n",
       "<table border=\"1\" class=\"dataframe\">\n",
       "  <thead>\n",
       "    <tr style=\"text-align: right;\">\n",
       "      <th></th>\n",
       "      <th>path</th>\n",
       "      <th>sentence</th>\n",
       "      <th>time</th>\n",
       "    </tr>\n",
       "  </thead>\n",
       "  <tbody>\n",
       "    <tr>\n",
       "      <th>0</th>\n",
       "      <td>data/custom_dataset/audio/0.wav</td>\n",
       "      <td>O linho estava em flor.</td>\n",
       "      <td>1.71</td>\n",
       "    </tr>\n",
       "    <tr>\n",
       "      <th>1</th>\n",
       "      <td>data/custom_dataset/audio/1.wav</td>\n",
       "      <td>Com as mais lindas flores azuis, tão suaves e ...</td>\n",
       "      <td>5.31</td>\n",
       "    </tr>\n",
       "    <tr>\n",
       "      <th>2</th>\n",
       "      <td>data/custom_dataset/audio/2.wav</td>\n",
       "      <td>quem sabe até mais.</td>\n",
       "      <td>1.56</td>\n",
       "    </tr>\n",
       "    <tr>\n",
       "      <th>3</th>\n",
       "      <td>data/custom_dataset/audio/3.wav</td>\n",
       "      <td>O sol brilhava sobre o linho e as nuvens de ch...</td>\n",
       "      <td>4.08</td>\n",
       "    </tr>\n",
       "    <tr>\n",
       "      <th>4</th>\n",
       "      <td>data/custom_dataset/audio/4.wav</td>\n",
       "      <td>era tão bom para ele quanto para as crianças p...</td>\n",
       "      <td>6.51</td>\n",
       "    </tr>\n",
       "    <tr>\n",
       "      <th>...</th>\n",
       "      <td>...</td>\n",
       "      <td>...</td>\n",
       "      <td>...</td>\n",
       "    </tr>\n",
       "    <tr>\n",
       "      <th>3785</th>\n",
       "      <td>data/custom_dataset/audio/3785.wav</td>\n",
       "      <td>Assim, acabou morrendo ali mesmo, com o rosto ...</td>\n",
       "      <td>6.36</td>\n",
       "    </tr>\n",
       "    <tr>\n",
       "      <th>3786</th>\n",
       "      <td>data/custom_dataset/audio/3786.wav</td>\n",
       "      <td>Esse foi o castigo do belo Narciso, cujo desti...</td>\n",
       "      <td>6.36</td>\n",
       "    </tr>\n",
       "    <tr>\n",
       "      <th>3787</th>\n",
       "      <td>data/custom_dataset/audio/3787.wav</td>\n",
       "      <td>Eco ficou chorando ao lado do corpo dele, até ...</td>\n",
       "      <td>5.49</td>\n",
       "    </tr>\n",
       "    <tr>\n",
       "      <th>3788</th>\n",
       "      <td>data/custom_dataset/audio/3788.wav</td>\n",
       "      <td>Ao despertar, Eco viu que Narciso não estava m...</td>\n",
       "      <td>7.17</td>\n",
       "    </tr>\n",
       "    <tr>\n",
       "      <th>3789</th>\n",
       "      <td>data/custom_dataset/audio/3789.wav</td>\n",
       "      <td>Hoje, ela é conhecida pelo nome de \"narciso\", ...</td>\n",
       "      <td>5.19</td>\n",
       "    </tr>\n",
       "  </tbody>\n",
       "</table>\n",
       "<p>3776 rows × 3 columns</p>\n",
       "</div>"
      ],
      "text/plain": [
       "                                    path  \\\n",
       "0        data/custom_dataset/audio/0.wav   \n",
       "1        data/custom_dataset/audio/1.wav   \n",
       "2        data/custom_dataset/audio/2.wav   \n",
       "3        data/custom_dataset/audio/3.wav   \n",
       "4        data/custom_dataset/audio/4.wav   \n",
       "...                                  ...   \n",
       "3785  data/custom_dataset/audio/3785.wav   \n",
       "3786  data/custom_dataset/audio/3786.wav   \n",
       "3787  data/custom_dataset/audio/3787.wav   \n",
       "3788  data/custom_dataset/audio/3788.wav   \n",
       "3789  data/custom_dataset/audio/3789.wav   \n",
       "\n",
       "                                               sentence  time  \n",
       "0                               O linho estava em flor.  1.71  \n",
       "1     Com as mais lindas flores azuis, tão suaves e ...  5.31  \n",
       "2                                   quem sabe até mais.  1.56  \n",
       "3     O sol brilhava sobre o linho e as nuvens de ch...  4.08  \n",
       "4     era tão bom para ele quanto para as crianças p...  6.51  \n",
       "...                                                 ...   ...  \n",
       "3785  Assim, acabou morrendo ali mesmo, com o rosto ...  6.36  \n",
       "3786  Esse foi o castigo do belo Narciso, cujo desti...  6.36  \n",
       "3787  Eco ficou chorando ao lado do corpo dele, até ...  5.49  \n",
       "3788  Ao despertar, Eco viu que Narciso não estava m...  7.17  \n",
       "3789  Hoje, ela é conhecida pelo nome de \"narciso\", ...  5.19  \n",
       "\n",
       "[3776 rows x 3 columns]"
      ]
     },
     "execution_count": 39,
     "metadata": {},
     "output_type": "execute_result"
    }
   ],
   "source": [
    "pd_dataset_dict"
   ]
  },
  {
   "cell_type": "code",
   "execution_count": 40,
   "id": "80df64d8",
   "metadata": {},
   "outputs": [],
   "source": [
    "pd_dataset_dict.to_csv('data/dataset_cleaned.tsv', sep='\\t', index=False) # Salvamos o arquivo em disco com o dataset atualizado"
   ]
  },
  {
   "cell_type": "markdown",
   "id": "7a71b95c",
   "metadata": {},
   "source": [
    "# Seperar dataset para treinamento"
   ]
  },
  {
   "cell_type": "code",
   "execution_count": 35,
   "id": "8bac8003",
   "metadata": {},
   "outputs": [],
   "source": [
    "from sklearn.model_selection import train_test_split"
   ]
  },
  {
   "cell_type": "code",
   "execution_count": 36,
   "id": "a85983e2",
   "metadata": {},
   "outputs": [],
   "source": [
    "pd_dataset = pd.read_csv('data/dataset_cleaned.tsv', sep='\\t') # Aqui vamos carregar novamente o dataset para dropar a coluna de tempo e separar o dataset em treino e validação\n",
    "pd_dataset = pd_dataset.drop(columns=['time'])"
   ]
  },
  {
   "cell_type": "code",
   "execution_count": 37,
   "id": "1d293ef6",
   "metadata": {},
   "outputs": [],
   "source": [
    "train, valid = train_test_split(pd_dataset, test_size=0.2, shuffle=True) # # Aqui separamos 80% dos audios para treinamento e 20% para validação\n",
    "#valid, test = train_test_split(valid, test_size=0.5, shuffle=True)"
   ]
  },
  {
   "cell_type": "code",
   "execution_count": 38,
   "id": "b827d310",
   "metadata": {},
   "outputs": [
    {
     "name": "stdout",
     "output_type": "stream",
     "text": [
      "3020\n",
      "756\n"
     ]
    }
   ],
   "source": [
    "print(len(train))\n",
    "print(len(valid))\n",
    "#print(len(test))"
   ]
  },
  {
   "cell_type": "code",
   "execution_count": 39,
   "id": "fd0538d4",
   "metadata": {},
   "outputs": [],
   "source": [
    "# Criação dos aquivos de train e valid com base no que foi gerado\n",
    "train.to_csv('data/train.csv', sep='|', index=False, header=False)\n",
    "valid.to_csv('data/valid.csv', sep='|', index=False, header=False)\n",
    "#test.to_csv('data/test.tsv', sep='|', index=False)"
   ]
  },
  {
   "cell_type": "code",
   "execution_count": null,
   "id": "dac96535",
   "metadata": {},
   "outputs": [],
   "source": [
    "#Todos os arquivos que forem gerados, seram colocados dentro da pasta 'data', criada com o proposito de acomodar os arquivos de dataset (data/custom_dataset')"
   ]
  }
 ],
 "metadata": {
  "kernelspec": {
   "display_name": "Python 3 (ipykernel)",
   "language": "python",
   "name": "python3"
  },
  "language_info": {
   "codemirror_mode": {
    "name": "ipython",
    "version": 3
   },
   "file_extension": ".py",
   "mimetype": "text/x-python",
   "name": "python",
   "nbconvert_exporter": "python",
   "pygments_lexer": "ipython3",
   "version": "3.8.16"
  }
 },
 "nbformat": 4,
 "nbformat_minor": 5
}
